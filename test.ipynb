{
 "cells": [
  {
   "cell_type": "code",
   "execution_count": 58,
   "source": [
    "import torch\r\n",
    "import torch.nn as nn\r\n",
    "import torch.nn.functional as fun\r\n",
    "from torch.utils.data import Dataset\r\n",
    "from torch.utils.data import DataLoader\r\n",
    "from sklearn.metrics.pairwise import cosine_similarity\r\n",
    "from collections import Counter\r\n",
    "import numpy as np\r\n",
    "import random\r\n",
    "import math\r\n",
    "import jieba #中文分词工具\r\n",
    "import pandas as pd\r\n",
    "\r\n",
    "model_cn = torch.load(\"C:\\\\Users\\\\29147\\\\source\\\\repos\\\\NLP初级知识整合\\\\NLP-summary\\\\cn_in_embed.pth\")\r\n",
    "model_cn.eval()\r\n",
    "model_cn = model_cn.cpu()\r\n",
    "\r\n",
    "model_en = torch.load(\"C:\\\\Users\\\\29147\\\\source\\\\repos\\\\NLP初级知识整合\\\\NLP-summary\\\\en_in_embed.pth\")\r\n",
    "model_en.eval()\r\n",
    "model_en = model_en.cpu()\r\n",
    "\r\n",
    "\r\n",
    "with open(\"news-commentary-v13.zh-en.cn\",\"r\",encoding='utf-8') as f:\r\n",
    "    text_cn = f.read()\r\n",
    "\r\n",
    "with open(\"news-commentary-v13.zh-en.en\",\"r\",encoding='utf-8') as f:\r\n",
    "    text_en = f.read()\r\n",
    "\r\n",
    "#   当不给split函数传递任何参数时，分隔符sep会采用任意形式的空白字符\r\n",
    "text_en = text_en.split()   #英文单词直接用空格分就行\r\n",
    "text_cn = jieba.lcut(text_cn,cut_all=False)   #用jieba的精确模式对中文进行分词\r\n",
    "\r\n",
    "vocab_en = dict(Counter(text_en))\r\n",
    "vocab_cn = dict(Counter(text_cn))\r\n",
    "\r\n",
    "mappingCN_index2word = [word for word in vocab_cn.keys()]\r\n",
    "mappingCN_word2index = {word:i for i,word in enumerate(mappingCN_index2word)}\r\n",
    "\r\n",
    "mappingEN_index2word = [word for word in vocab_en.keys()]\r\n",
    "mappingEN_word2index = {word:i for i,word in enumerate(mappingEN_index2word)}"
   ],
   "outputs": [],
   "metadata": {}
  },
  {
   "cell_type": "code",
   "execution_count": 59,
   "source": [
    "def ShowNearest(word,word2index,index2word,embed_model):\r\n",
    "    # 记录十个相似度最高的词的下标和相似度\r\n",
    "    sim = [-1,-1,-1,-1,-1,-1,-1,-1,-1,-1]   \r\n",
    "    indx = [-1,-1,-1,-1,-1,-1,-1,-1,-1,-1]\r\n",
    "\r\n",
    "    wordVec = embed_model(torch.tensor(word2index[word])).detach().numpy()\r\n",
    "    targetVecs = [embed_model(torch.tensor(index)).detach().numpy() for index in range(len(index2word))]\r\n",
    "    for target_index in range(len(targetVecs)):\r\n",
    "        similarity = cosine_similarity([wordVec], [targetVecs[target_index]])#非得用2维数组比\r\n",
    "        for sim_idx in range(len(sim)):\r\n",
    "            #   \r\n",
    "            if(similarity > sim[sim_idx]):\r\n",
    "                sim[sim_idx] = similarity\r\n",
    "                indx[sim_idx] = target_index\r\n",
    "                break\r\n",
    "            \r\n",
    "\r\n",
    "    return [index2word[i] for i in indx]"
   ],
   "outputs": [],
   "metadata": {}
  },
  {
   "cell_type": "code",
   "execution_count": 64,
   "source": [
    "\r\n",
    "#余弦相似度最高的10个词\r\n",
    "#print(ShowNearest(\"中国\",mappingCN_word2index,mappingCN_index2word,model_cn))\r\n",
    "print(ShowNearest(\"virus\",mappingEN_word2index,mappingEN_index2word,model_en))\r\n",
    "print(ShowNearest(\"India\",mappingEN_word2index,mappingEN_index2word,model_en))\r\n",
    "print(ShowNearest(\"climate\",mappingEN_word2index,mappingEN_index2word,model_en))\r\n",
    "print(ShowNearest(\"economic\",mappingEN_word2index,mappingEN_index2word,model_en))\r\n",
    "print(ShowNearest(\"crisis\",mappingEN_word2index,mappingEN_index2word,model_en))\r\n",
    "print(ShowNearest(\"weapon\",mappingEN_word2index,mappingEN_index2word,model_en))"
   ],
   "outputs": [
    {
     "output_type": "stream",
     "name": "stdout",
     "text": [
      "['virus', 'gradual', 'China.', 'transformation', 'gone', 'clean', 'positions', 'liberalization', 'interest-rate', 'Rather,']\n",
      "['India', 'In', 'like', 'For', 'where', 'Western', 'leading', 'American', 'into', 'within']\n",
      "['climate', 'change.', 'comprehensive', 'key', 'problems', 'progress', 'strategy', 'critical', 'reform', 'building']\n",
      "['economic', 'global', 'potential', 'significant', 'stability', 'China’s', 'further', 'creating', 'national', 'sustained']\n",
      "['crisis', 'crisis.', 'economy', 'current', 'economy.', 'began', 'third', 'Greek', 'fact,', 'ongoing']\n",
      "['weapon', 'cooperative', 'low-carbon', 'emissions.', 'capital,', 'rights,', 'security,', 'contribute', 'security.', 'supplies']\n"
     ]
    }
   ],
   "metadata": {}
  },
  {
   "cell_type": "code",
   "execution_count": 65,
   "source": [
    "print(ShowNearest(\"病毒\",mappingCN_word2index,mappingCN_index2word,model_cn))\r\n",
    "print(ShowNearest(\"能源\",mappingCN_word2index,mappingCN_index2word,model_cn))\r\n",
    "print(ShowNearest(\"中国\",mappingCN_word2index,mappingCN_index2word,model_cn))\r\n",
    "print(ShowNearest(\"北京\",mappingCN_word2index,mappingCN_index2word,model_cn))\r\n",
    "print(ShowNearest(\"经济\",mappingCN_word2index,mappingCN_index2word,model_cn))"
   ],
   "outputs": [
    {
     "output_type": "stream",
     "name": "stdout",
     "text": [
      "['病毒', '感染', '疾病', '艾滋病', '预防', '群体', '药物', '普遍', '致命', '其实']\n",
      "['能源', '生产', '行业', '效率', '绿色', '水', '清洁', '卫生', '用于', '土地']\n",
      "['中国', '美国', '尽管', '已', '由于', '日本', '正', '印度', '部分', '转变']\n",
      "['北京', '刚刚', '－', '纽约', '正如', '曾经', '香港', '期间', '著名', '回归']\n",
      "['经济', '繁荣', '阻碍', '模式', '当前', '转变', '转型', '前所未有', '一体化', '缓慢']\n"
     ]
    }
   ],
   "metadata": {}
  },
  {
   "cell_type": "markdown",
   "source": [],
   "metadata": {}
  }
 ],
 "metadata": {
  "orig_nbformat": 4,
  "language_info": {
   "name": "python",
   "version": "3.7.10",
   "mimetype": "text/x-python",
   "codemirror_mode": {
    "name": "ipython",
    "version": 3
   },
   "pygments_lexer": "ipython3",
   "nbconvert_exporter": "python",
   "file_extension": ".py"
  },
  "kernelspec": {
   "name": "python3",
   "display_name": "Python 3.7.10 64-bit ('pytorch': conda)"
  },
  "interpreter": {
   "hash": "663e9bff0f8e489cfb11a535201dd029d3f4b5dbba25ed4b671d30c0c2c6bfa9"
  }
 },
 "nbformat": 4,
 "nbformat_minor": 2
}